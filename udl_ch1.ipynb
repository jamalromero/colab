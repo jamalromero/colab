{
  "nbformat": 4,
  "nbformat_minor": 0,
  "metadata": {
    "colab": {
      "provenance": []
    },
    "kernelspec": {
      "name": "python3",
      "display_name": "Python 3"
    },
    "language_info": {
      "name": "python"
    }
  },
  "cells": [
    {
      "cell_type": "markdown",
      "source": [
        "Keep Python runtime and install java"
      ],
      "metadata": {
        "id": "-PY9c_q42J1S"
      }
    },
    {
      "cell_type": "code",
      "execution_count": null,
      "metadata": {
        "id": "tGjdJncAIbnT"
      },
      "outputs": [],
      "source": [
        "!apt install openjdk-17-jdk"
      ]
    },
    {
      "cell_type": "markdown",
      "source": [
        "Install Juyter Java kernel"
      ],
      "metadata": {
        "id": "VTvVS96Q2Tzd"
      }
    },
    {
      "cell_type": "code",
      "source": [
        "!pip install jbang\n",
        "import jbang\n",
        "jbang.exec(\"trust add https://github.com/jupyter-java\")\n",
        "jbang.exec(\"install-kernel@jupyter-java\")"
      ],
      "metadata": {
        "id": "advvIMn1Nn0e"
      },
      "execution_count": null,
      "outputs": []
    },
    {
      "cell_type": "markdown",
      "source": [
        "Change Runtime to Java kernel and test Java runtime."
      ],
      "metadata": {
        "id": "ro6LZ1iT2cig"
      }
    },
    {
      "cell_type": "code",
      "source": [
        "System.getProperty(\"java.version\")"
      ],
      "metadata": {
        "id": "cwZaX7xHNcKk"
      },
      "execution_count": null,
      "outputs": []
    },
    {
      "cell_type": "markdown",
      "source": [
        "Load external script to include maven dependency, import packages and intial startup script. Example:\n",
        "\n",
        "```\n",
        "%%loadFromPOM\n",
        "<dependency>\n",
        "    <groupId>tech.tablesaw</groupId>\n",
        "    <artifactId>tablesaw-core</artifactId>\n",
        "    <version>0.43.1</version>\n",
        "</dependency>\n",
        "\n",
        "import java.util.stream.*;\n",
        "\n",
        "System.getProperty(\"java.version\");\n",
        "\n",
        "```\n",
        "\n"
      ],
      "metadata": {
        "id": "z6jlXMb82p9i"
      }
    },
    {
      "cell_type": "code",
      "source": [
        "%load /content/drive/MyDrive/colab/init_script.ipynb"
      ],
      "metadata": {
        "id": "HYw6JGoL4A29"
      },
      "execution_count": null,
      "outputs": []
    },
    {
      "cell_type": "markdown",
      "metadata": {
        "id": "WV2Dl6owme2d"
      },
      "source": [
        "#Linear functions\n",
        "We will be using the term *linear equation* to mean a weighted sum of inputs plus an offset. If there is just one input $x$, then this is a straight line:\n",
        "\n",
        "\\begin{equation}y=\\beta+\\omega x,\\end{equation}\n",
        "\n",
        "where $\\beta$ is the y-intercept of the linear and $\\omega$ is the slope of the line. When there are two inputs $x_{1}$ and $x_{2}$, then this becomes:\n",
        "\n",
        "\\begin{equation}y=\\beta+\\omega_1 x_1 + \\omega_2 x_2.\\end{equation}\n",
        "\n",
        "Any other functions are by definition **non-linear**.\n",
        "\n",
        "\n"
      ]
    },
    {
      "cell_type": "markdown",
      "source": [
        "## 1D Linear function\n",
        "\n",
        "* Define an array of x values from 0 to 10 with increments of 0.01\n",
        "* Compute y using the function: \\begin{equation}y=\\beta+\\omega x\\end{equation}\n",
        "* Plot the function\n",
        "* Experiment with changing the values of $\\beta$ and  $\\omega$\n",
        "* Make a line that crosses the y-axis at 10 and the x-axis at 5"
      ],
      "metadata": {
        "id": "sVjxquFlQ01E"
      }
    }
  ]
}