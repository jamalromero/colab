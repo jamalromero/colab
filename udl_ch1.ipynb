{
  "nbformat": 4,
  "nbformat_minor": 0,
  "metadata": {
    "colab": {
      "provenance": []
    },
    "kernelspec": {
      "name": "jbang-ijava",
      "display_name": "java (IJava/j!)"
    }
  },
  "cells": [
    {
      "cell_type": "markdown",
      "source": [
        "Keep Python runtime and install java"
      ],
      "metadata": {
        "id": "-PY9c_q42J1S"
      }
    },
    {
      "cell_type": "code",
      "source": [
        "from google.colab import drive\n",
        "drive.mount('/content/drive')"
      ],
      "metadata": {
        "colab": {
          "base_uri": "https://localhost:8080/"
        },
        "id": "pjUM1cc8pP04",
        "outputId": "f74c1846-64ff-4195-81ca-235028b7261d"
      },
      "execution_count": 2,
      "outputs": [
        {
          "output_type": "stream",
          "name": "stdout",
          "text": [
            "Drive already mounted at /content/drive; to attempt to forcibly remount, call drive.mount(\"/content/drive\", force_remount=True).\n"
          ]
        }
      ]
    },
    {
      "cell_type": "code",
      "execution_count": null,
      "metadata": {
        "id": "tGjdJncAIbnT"
      },
      "outputs": [],
      "source": [
        "!apt install openjdk-17-jdk"
      ]
    },
    {
      "cell_type": "markdown",
      "source": [
        "Install Juyter Java kernel"
      ],
      "metadata": {
        "id": "VTvVS96Q2Tzd"
      }
    },
    {
      "cell_type": "code",
      "source": [
        "!pip install jbang\n",
        "import jbang\n",
        "jbang.exec(\"trust add https://github.com/jupyter-java\")\n",
        "jbang.exec(\"install-kernel@jupyter-java\")"
      ],
      "metadata": {
        "id": "advvIMn1Nn0e"
      },
      "execution_count": null,
      "outputs": []
    },
    {
      "cell_type": "markdown",
      "source": [
        "Change Runtime to Java kernel and test Java runtime."
      ],
      "metadata": {
        "id": "ro6LZ1iT2cig"
      }
    },
    {
      "cell_type": "code",
      "source": [
        "System.getProperty(\"java.version\")"
      ],
      "metadata": {
        "id": "cwZaX7xHNcKk"
      },
      "execution_count": null,
      "outputs": []
    },
    {
      "cell_type": "markdown",
      "source": [
        "Load external script to include maven dependency, import packages and intial startup script. Example:\n",
        "\n",
        "```\n",
        "%%loadFromPOM\n",
        "<dependency>\n",
        "    <groupId>tech.tablesaw</groupId>\n",
        "    <artifactId>tablesaw-core</artifactId>\n",
        "    <version>0.43.1</version>\n",
        "</dependency>\n",
        "\n",
        "import java.util.stream.*;\n",
        "\n",
        "System.getProperty(\"java.version\");\n",
        "\n",
        "```\n",
        "\n"
      ],
      "metadata": {
        "id": "z6jlXMb82p9i"
      }
    },
    {
      "cell_type": "code",
      "source": [
        "%load /content/drive/MyDrive/colab/init_script.ipynb"
      ],
      "metadata": {
        "id": "HYw6JGoL4A29"
      },
      "execution_count": 245,
      "outputs": []
    },
    {
      "cell_type": "markdown",
      "metadata": {
        "id": "WV2Dl6owme2d"
      },
      "source": [
        "#Linear functions\n",
        "We will be using the term *linear equation* to mean a weighted sum of inputs plus an offset. If there is just one input $x$, then this is a straight line:\n",
        "\n",
        "\\begin{equation}y=\\beta+\\omega x,\\end{equation}\n",
        "\n",
        "where $\\beta$ is the y-intercept of the linear and $\\omega$ is the slope of the line. When there are two inputs $x_{1}$ and $x_{2}$, then this becomes:\n",
        "\n",
        "\\begin{equation}y=\\beta+\\omega_1 x_1 + \\omega_2 x_2.\\end{equation}\n",
        "\n",
        "Any other functions are by definition **non-linear**.\n",
        "\n",
        "\n"
      ]
    },
    {
      "cell_type": "markdown",
      "source": [
        "## 1D Linear function\n",
        "\n",
        "* Define an array of x values from 0 to 10 with increments of 0.01\n",
        "* Compute y using the function: \\begin{equation}y=\\beta+\\omega x\\end{equation}\n",
        "* Plot the function\n",
        "* Experiment with changing the values of $\\beta$ and  $\\omega$\n",
        "* Make a line that crosses the y-axis at 10 and the x-axis at 5"
      ],
      "metadata": {
        "id": "sVjxquFlQ01E"
      }
    },
    {
      "cell_type": "code",
      "source": [
        "NDManager manager = NDManager.newBaseManager()"
      ],
      "metadata": {
        "id": "SuUbShGttDiJ"
      },
      "execution_count": null,
      "outputs": []
    },
    {
      "cell_type": "code",
      "source": [
        "var beta = 10f;\n",
        "var omega = -2f;\n",
        "var x = manager.arange(0f, 10f, 0.01f, DataType.FLOAT64);\n",
        "var y = x.mul(omega).add(beta);\n",
        "var data = toDoubleArray(x.stack(y, 1));\n",
        "var canvas = LinePlot.of(data, Color.BLUE).canvas();\n",
        "canvas.setBound(new double[]{0, 0}, new double[]{8, 13});\n",
        "canvas.toBufferedImage(600, 400);"
      ],
      "metadata": {
        "id": "CRs6UXYgtMq_",
        "outputId": "9ee57505-b5a1-4b46-b7dd-18b0bbcf3ef4",
        "colab": {
          "base_uri": "https://localhost:8080/",
          "height": 417
        }
      },
      "execution_count": 148,
      "outputs": [
        {
          "output_type": "execute_result",
          "data": {
            "image/png": "[encoded data removed]",
            "text/plain": [
              "BufferedImage@64464664: type = 2 DirectColorModel: rmask=ff0000 gmask=ff00 bmask=ff amask=ff000000 IntegerInterleavedRaster: width = 600 height = 400 #Bands = 4 xOff = 0 yOff = 0 dataOffset[0] 0"
            ]
          },
          "metadata": {},
          "execution_count": 148
        }
      ]
    },
    {
      "cell_type": "markdown",
      "metadata": {
        "id": "AedfvD9dxShZ"
      },
      "source": [
        "## 2D linear function\n",
        "\n",
        "* Define 2 arrays $x_1$ and $x_2$ with values from 0 to 10 with increments of 0.1\n",
        "* Define a linear function with two inputs, $x_1$ and $x_2$ \\begin{equation}y=\\beta+\\omega_1 x_1 + \\omega_2 x_2\\end{equation}\n",
        "* Plot the 2D function\n",
        "* Predict what this plot will look like if you set $\\omega_1 = 0$\n",
        "* Predict what this plot will look like if you set $\\omega_2 = 0$\n",
        "* Predict what this plot will look like if you set $\\beta = -5$"
      ]
    },
    {
      "cell_type": "code",
      "source": [
        "var beta = -5f;\n",
        "var omega1 = 1f;\n",
        "var omega2 = -0.5f;\n",
        "var x1 = manager.arange(0f, 10f, 0.1f, DataType.FLOAT64);\n",
        "var x2 = manager.arange(0f, 10f, 0.1f, DataType.FLOAT64);\n",
        "var gridMap = meshgrid(x1, x2);\n",
        "x1_mesh = gridMap.get(\"x1\");\n",
        "x2_mesh = gridMap.get(\"x2\");\n",
        "var z = x1_mesh.mul(omega1).add(x2_mesh.mul(omega2)).add(beta);\n",
        "var canvas = Heatmap.of(x1.toDoubleArray(), x2.toDoubleArray(), toDoubleArray(z), 256).canvas();\n",
        "canvas.toBufferedImage(600, 400);"
      ],
      "metadata": {
        "id": "iZbSpOrcyync",
        "outputId": "59c372fe-5521-4391-dd2d-12b40ba1b6ee",
        "colab": {
          "base_uri": "https://localhost:8080/",
          "height": 417
        }
      },
      "execution_count": 182,
      "outputs": [
        {
          "output_type": "execute_result",
          "data": {
            "image/png": "[encoded data removed]",
            "text/plain": [
              "BufferedImage@79febdb1: type = 2 DirectColorModel: rmask=ff0000 gmask=ff00 bmask=ff amask=ff000000 IntegerInterleavedRaster: width = 600 height = 400 #Bands = 4 xOff = 0 yOff = 0 dataOffset[0] 0"
            ]
          },
          "metadata": {},
          "execution_count": 182
        }
      ]
    },
    {
      "cell_type": "markdown",
      "metadata": {
        "id": "i8tLwpls476R"
      },
      "source": [
        "Often we will want to compute many linear functions at the same time.  For example, we might have three inputs, $x_1$, $x_2$, and $x_3$ and want to compute two linear functions giving $y_1$ and $y_2$. Of course, we could do this by just running each equation separately,<br><br>\n",
        "\n",
        "\\begin{align}y_1 &=& \\beta_1 + \\omega_{11} x_1 + \\omega_{12} x_2 + \\omega_{13} x_3\\\\\n",
        "y_2 &=& \\beta_2 + \\omega_{21} x_1 + \\omega_{22} x_2 + \\omega_{23} x_3\n",
        "\\end{align}\n",
        "\n",
        "However, we can write it more compactly with vectors and matrices:\n",
        "\n",
        "\\begin{equation}\n",
        "\\begin{bmatrix} y_1\\\\ y_2 \\end{bmatrix} = \\begin{bmatrix}\\beta_{1}\\\\\\beta_{2}\\end{bmatrix}+ \\begin{bmatrix}\\omega_{11}&\\omega_{12}&\\omega_{13}\\\\\\omega_{21}&\\omega_{22}&\\omega_{23}\\end{bmatrix}\\begin{bmatrix}x_{1}\\\\x_{2}\\\\x_{3}\\end{bmatrix}\n",
        "\\end{equation}\n",
        "or\n",
        "\n",
        "\\begin{equation}\n",
        "\\mathbf{y} = \\boldsymbol\\beta +\\boldsymbol\\Omega\\mathbf{x}\n",
        "\\end{equation}\n",
        "\n",
        "for short.  Here, lowercase bold symbols are used for vectors.  Upper case bold symbols are used for matrices.\n",
        "\n"
      ]
    },
    {
      "cell_type": "markdown",
      "source": [
        "## 3D Linear function"
      ],
      "metadata": {
        "id": "6C_cYzWoiXBe"
      }
    },
    {
      "cell_type": "code",
      "source": [
        "var beta_vec = manager.create(new float[]{0.5f, 0.2f});\n",
        "var omega_mat = manager.create(new float[][]{{-1f, 0.4f, -0.3f}, {0.1f, 0.1f, 1.2f}});\n",
        "var x_vec = manager.create(new float[]{4f, -1f, 2f});\n",
        "var y_vec = beta_vec.add(omega_mat.matMul(x_vec));\n",
        "y_vec"
      ],
      "metadata": {
        "id": "KeVWAr8g7KWy",
        "outputId": "324a810c-f762-4b51-be51-40b2961530af",
        "colab": {
          "base_uri": "https://localhost:8080/"
        }
      },
      "execution_count": 267,
      "outputs": [
        {
          "output_type": "execute_result",
          "data": {
            "text/plain": [
              "ND: (2) cpu() float32\n",
              "[-4.5,  2.9]\n"
            ]
          },
          "metadata": {},
          "execution_count": 267
        }
      ]
    },
    {
      "cell_type": "markdown",
      "metadata": {
        "id": "3LGRoTMLU8ZU"
      },
      "source": [
        "# Questions\n",
        "\n",
        "1.  A single linear equation with three inputs (i.e. **linear_function_3D()**) associates a value y with each point in a 3D space ($x_1$,$x_2$,$x_3$).  Is it possible to visualize this?   What value is at position (0,0,0)?\n",
        "\n",
        "2.  Write code to compute three linear equations with two inputs ($x_1$, $x_2$) using both the individual equations and the matrix form (you can make up any values for the inputs $\\beta_{i}$ and the slopes $\\omega_{ij}$."
      ]
    },
    {
      "cell_type": "code",
      "source": [
        "x_vec = manager.zeros(new Shape(3));\n",
        "y_vec = beta_vec.add(omega_mat.matMul(x_vec));\n",
        "y_vec"
      ],
      "metadata": {
        "id": "Sf-8EoVA-Del",
        "outputId": "1f1335ef-658c-49f6-9921-f1ef685749d4",
        "colab": {
          "base_uri": "https://localhost:8080/"
        }
      },
      "execution_count": 269,
      "outputs": [
        {
          "output_type": "execute_result",
          "data": {
            "text/plain": [
              "ND: (2) cpu() float32\n",
              "[0.5, 0.2]\n"
            ]
          },
          "metadata": {},
          "execution_count": 269
        }
      ]
    },
    {
      "cell_type": "code",
      "source": [
        "var beta_vec = manager.create(new float[]{0.5f, 0.2f, -1f});\n",
        "var omega_mat = manager.create(new float[][]{{-1f, 0.4f}, {0.1f, 0.1f}, {-0.1f, 1f}});\n",
        "var x_vec = manager.create(new float[]{4f, -1f});\n",
        "var y_vec = beta_vec.add(omega_mat.matMul(x_vec));\n",
        "y_vec"
      ],
      "metadata": {
        "id": "0u9PQeNP_Z6d",
        "outputId": "4adae2ae-46c5-40c4-9132-95477f1c4f8e",
        "colab": {
          "base_uri": "https://localhost:8080/"
        }
      },
      "execution_count": 272,
      "outputs": [
        {
          "output_type": "execute_result",
          "data": {
            "text/plain": [
              "ND: (3) cpu() float32\n",
              "[-3.9,  0.5, -2.4]\n"
            ]
          },
          "metadata": {},
          "execution_count": 272
        }
      ]
    },
    {
      "cell_type": "markdown",
      "metadata": {
        "id": "7Y5zdKtKZAB2"
      },
      "source": [
        "# Special functions\n",
        "\n",
        "Throughout the book, we'll be using some special functions (see Appendix B.1.3).  The most important of these are the logarithm and exponential functions.  Let's investigate their properties.\n",
        "\n",
        "We'll start with the exponential function $y=\\exp[x]=e^x$ which maps the real line $[-\\infty,+\\infty]$ to non-negative numbers $[0,+\\infty]$."
      ]
    },
    {
      "cell_type": "code",
      "source": [
        "var x = manager.arange(-5f, 5f, 0.01f, DataType.FLOAT64);\n",
        "var y = x.exp();\n",
        "LinePlot.of(toDoubleArray(x.stack(y, 1))).canvas().toBufferedImage(600, 400);"
      ],
      "metadata": {
        "id": "4nJZqhKEACE6",
        "outputId": "a58018d6-4348-4e64-85b2-615034eaa465",
        "colab": {
          "base_uri": "https://localhost:8080/",
          "height": 417
        }
      },
      "execution_count": 289,
      "outputs": [
        {
          "output_type": "execute_result",
          "data": {
            "image/png": "[encoded data removed]",
            "text/plain": [
              "BufferedImage@58a67e2c: type = 2 DirectColorModel: rmask=ff0000 gmask=ff00 bmask=ff amask=ff000000 IntegerInterleavedRaster: width = 600 height = 400 #Bands = 4 xOff = 0 yOff = 0 dataOffset[0] 0"
            ]
          },
          "metadata": {},
          "execution_count": 289
        }
      ]
    },
    {
      "cell_type": "markdown",
      "metadata": {
        "id": "XyrT8257IWCu"
      },
      "source": [
        "# Questions\n",
        "\n",
        "1. What is $e^0$?  \n",
        "2. What is $e^1$?\n",
        "3. What is $e^{-\\infty}$?\n",
        "4. What is $e^{+\\infty}$?\n",
        "5. A function is convex if we can draw a straight line between any two points on the function, and the line lies above the function everywhere between these two points. Similarly, a function is concave if a straight line between any two points lies below the function everywhere between these two points.  Is the exponential function convex or concave or neither?\n"
      ]
    },
    {
      "cell_type": "code",
      "source": [
        "System.out.print(manager.create(new float[]{0f}).exp());\n",
        "System.out.print(manager.create(new float[]{1f}).exp());\n",
        "System.out.print(manager.create(new float[]{Float.NEGATIVE_INFINITY}).exp());\n",
        "System.out.print(manager.create(new float[]{Float.POSITIVE_INFINITY}).exp());"
      ],
      "metadata": {
        "id": "BbcyIEhuEvQE",
        "outputId": "bf07521e-4d72-46c9-9f9f-00e6862b5a6e",
        "colab": {
          "base_uri": "https://localhost:8080/"
        }
      },
      "execution_count": 303,
      "outputs": [
        {
          "output_type": "stream",
          "name": "stdout",
          "text": [
            "ND: (1) cpu() float32\n",
            "[1.]\n",
            "ND: (1) cpu() float32\n",
            "[2.7183]\n",
            "ND: (1) cpu() float32\n",
            "[0.]\n",
            "ND: (1) cpu() float32\n",
            "[inf]\n"
          ]
        }
      ]
    },
    {
      "cell_type": "markdown",
      "source": [
        "Yes, the function $e^x$ is convex. Let's verify this using the second derivative test:\n",
        "\n",
        "### 1. **First Derivative:**\n",
        "The first derivative of $f(x) = e^x$ is:\n",
        "\n",
        "$f'(x) = \\frac{d}{dx} e^x = e^x$\n",
        "\n",
        "### 2. **Second Derivative:**\n",
        "The second derivative of $f(x) = e^x$ is:\n",
        "\n",
        "$f''(x) = \\frac{d}{dx} e^x = e^x$\n",
        "\n",
        "### 3. **Convexity Condition:**\n",
        "A function $f(x)$ is convex if its second derivative $f''(x)$ is non-negative for all $x$. Since $e^x > 0$ for all $x$, the second derivative $f''(x) = e^x$ is always positive.\n",
        "\n",
        "### Conclusion:\n",
        "Since the second derivative of $e^x$ is always positive, $e^x$ is a strictly convex function."
      ],
      "metadata": {
        "id": "XBo2KzHbvJ6h"
      }
    },
    {
      "cell_type": "markdown",
      "metadata": {
        "id": "yYWrL5AXIWCv"
      },
      "source": [
        "# Questions\n",
        "\n",
        "1. What is $log[0]$?  \n",
        "2. What is $log[1]$?\n",
        "3. What is $log[e]$?\n",
        "4. What is $log[e^3]$?\n",
        "5. What is $e^{log[4]}$?\n",
        "6. What is $log[-1]$?\n",
        "7. Is the logarithm function concave or convex?\n"
      ]
    },
    {
      "cell_type": "code",
      "source": [
        "System.out.print(manager.create(new float[]{0f}).log());\n",
        "System.out.print(manager.create(new float[]{1f}).log());\n",
        "System.out.print(manager.create(new double[]{Math.E}).log());\n",
        "System.out.print(manager.create(new float[]{3f}).exp().log());\n",
        "System.out.print(manager.create(new float[]{4f}).log().exp());\n",
        "System.out.print(manager.create(new float[]{-1f}).log());"
      ],
      "metadata": {
        "id": "z7B1lIweF9KS",
        "outputId": "162b20ca-c30e-4d0e-e7d8-f167b0201527",
        "colab": {
          "base_uri": "https://localhost:8080/"
        }
      },
      "execution_count": 351,
      "outputs": [
        {
          "output_type": "stream",
          "name": "stdout",
          "text": [
            "ND: (1) cpu() float32\n",
            "[-inf]\n",
            "ND: (1) cpu() float32\n",
            "[0.]\n",
            "ND: (1) cpu() float64\n",
            "[1.]\n",
            "ND: (1) cpu() float32\n",
            "[3.]\n",
            "ND: (1) cpu() float32\n",
            "[4.]\n",
            "ND: (1) cpu() float32\n",
            "[nan]\n"
          ]
        }
      ]
    },
    {
      "cell_type": "code",
      "source": [
        "var x = manager.arange(0.01f, 5f, 0.01f, DataType.FLOAT64);\n",
        "var y = x.log();\n",
        "LinePlot.of(toDoubleArray(x.stack(y, 1))).canvas().toBufferedImage(600, 400);"
      ],
      "metadata": {
        "id": "faP4S8RjGfNM",
        "outputId": "44ba9ccb-2edd-4198-ba88-f6b588dceab6",
        "colab": {
          "base_uri": "https://localhost:8080/",
          "height": 417
        }
      },
      "execution_count": 323,
      "outputs": [
        {
          "output_type": "execute_result",
          "data": {
            "image/png": "[encoded data removed]",
            "text/plain": [
              "BufferedImage@7adaf1d: type = 2 DirectColorModel: rmask=ff0000 gmask=ff00 bmask=ff amask=ff000000 IntegerInterleavedRaster: width = 600 height = 400 #Bands = 4 xOff = 0 yOff = 0 dataOffset[0] 0"
            ]
          },
          "metadata": {},
          "execution_count": 323
        }
      ]
    },
    {
      "cell_type": "markdown",
      "source": [
        "Yes, the function $log(x)$ is **concave** and not convex.\n",
        "\n",
        "To determine whether a function is convex or concave, you can examine its second derivative:\n",
        "\n",
        "1. The first derivative of $log(x)$ with respect to $x$ is:\n",
        "   $\\frac{d}{dx} log(x) = \\frac{1}{x}$\n",
        "\n",
        "2. The second derivative is: $\\frac{d^2}{dx^2} \\log(x) = -\\frac{1}{x^2}$\n",
        "\n",
        "Since the second derivative, $-\\frac{1}{x^2}$, is always negative for $x > 0$, $log(x)$ is a concave function on its domain $x > 0$.\n",
        "\n",
        "A function is convex if its second derivative is non-negative $\\geq 0$ for all $x$ in its domain. Since $log(x)$ has a negative second derivative, it is concave, not convex."
      ],
      "metadata": {
        "id": "VUGGaCGiJwq4"
      }
    }
  ]
}