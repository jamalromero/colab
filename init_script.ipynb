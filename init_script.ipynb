{
  "nbformat": 4,
  "nbformat_minor": 0,
  "metadata": {
    "colab": {
      "provenance": [],
      "include_colab_link": true
    },
    "kernelspec": {
      "name": "python3",
      "display_name": "Python 3"
    },
    "language_info": {
      "name": "python"
    }
  },
  "cells": [
    {
      "cell_type": "markdown",
      "metadata": {
        "id": "view-in-github",
        "colab_type": "text"
      },
      "source": [
        "<a href=\"https://colab.research.google.com/github/jamalromero/colab/blob/main/init_script.ipynb\" target=\"_parent\"><img src=\"https://colab.research.google.com/assets/colab-badge.svg\" alt=\"Open In Colab\"/></a>"
      ]
    },
    {
      "cell_type": "code",
      "source": [
        "%%loadFromPOM\n",
        "<dependency>\n",
        "    <groupId>tech.tablesaw</groupId>\n",
        "    <artifactId>tablesaw-core</artifactId>\n",
        "    <version>0.43.1</version>\n",
        "</dependency>\n",
        "<dependency>\n",
        "  <groupId>com.github.haifengl</groupId>\n",
        "  <artifactId>smile-plot</artifactId>\n",
        "  <version>3.1.1</version>\n",
        "</dependency>\n",
        "<dependency>\n",
        "    <groupId>ai.djl</groupId>\n",
        "    <artifactId>api</artifactId>\n",
        "    <version>0.29.0</version>\n",
        "</dependency>\n",
        "<dependency>\n",
        "    <groupId>ai.djl.pytorch</groupId>\n",
        "    <artifactId>pytorch-engine</artifactId>\n",
        "    <version>0.29.0</version>\n",
        "</dependency>\n",
        "<dependency>\n",
        "  <groupId>org.slf4j</groupId>\n",
        "  <artifactId>slf4j-simple</artifactId>\n",
        "  <version>2.0.13</version>\n",
        "</dependency>\n",
        "<dependency>\n",
        "  <groupId>org.slf4j</groupId>\n",
        "  <artifactId>slf4j-api</artifactId>\n",
        "  <version>2.0.13</version>\n",
        "</dependency>\n",
        "<dependency>\n",
        "    <groupId>commons-io</groupId>\n",
        "    <artifactId>commons-io</artifactId>\n",
        "    <version>2.16.1</version>\n",
        "</dependency>"
      ],
      "metadata": {
        "id": "8ooZbXbtN9ju"
      },
      "execution_count": null,
      "outputs": []
    },
    {
      "cell_type": "code",
      "source": [
        "import java.util.*;\n",
        "import java.util.stream.*;\n",
        "import java.awt.Graphics2D;\n",
        "import java.awt.Color;\n",
        "import java.awt.image.BufferedImage;\n",
        "\n",
        "import ai.djl.*;\n",
        "import ai.djl.engine.*;\n",
        "import ai.djl.inference.*;\n",
        "import ai.djl.modality.*;\n",
        "import ai.djl.modality.cv.*;\n",
        "import ai.djl.modality.cv.Image;\n",
        "import ai.djl.modality.cv.transform.*;\n",
        "import ai.djl.modality.cv.translator.*;\n",
        "import ai.djl.modality.cv.output.*;\n",
        "import ai.djl.modality.cv.util.*;\n",
        "import ai.djl.ndarray.*;\n",
        "import ai.djl.ndarray.index.*;\n",
        "import ai.djl.ndarray.types.*;\n",
        "import ai.djl.ndarray.types.Shape;\n",
        "import ai.djl.nn.*;\n",
        "import ai.djl.nn.convolutional.*;\n",
        "import ai.djl.nn.core.*;\n",
        "import ai.djl.nn.norm.*;\n",
        "import ai.djl.nn.pooling.*;\n",
        "import ai.djl.nn.recurrent.*;\n",
        "import ai.djl.repository.zoo.*;\n",
        "import ai.djl.training.*;\n",
        "import ai.djl.training.evaluator.*;\n",
        "import ai.djl.training.initializer.*;\n",
        "import ai.djl.training.listener.*;\n",
        "import ai.djl.training.loss.*;\n",
        "import ai.djl.training.optimizer.*;\n",
        "import ai.djl.training.tracker.*;\n",
        "import ai.djl.training.util.*;\n",
        "import ai.djl.training.dataset.*;\n",
        "import ai.djl.translate.*;\n",
        "import ai.djl.util.*;\n",
        "import java.io.*;\n",
        "import java.net.*;\n",
        "import java.nio.*;\n",
        "import java.nio.file.*;\n",
        "import java.util.*;\n",
        "import java.util.function.*;\n",
        "\n",
        "import tech.tablesaw.api.*;\n",
        "import tech.tablesaw.columns.*;\n",
        "import tech.tablesaw.io.csv.*;\n",
        "import tech.tablesaw.aggregate.AggregateFunctions;\n",
        "import tech.tablesaw.conversion.*;\n",
        "\n",
        "import smile.plot.swing.*;\n",
        "\n",
        "import org.apache.commons.math3.util.*;"
      ],
      "metadata": {
        "id": "9Xd1JCapOE_t"
      },
      "execution_count": null,
      "outputs": []
    },
    {
      "cell_type": "code",
      "source": [
        "double[][] toDoubleArray(NDArray ndArray) {\n",
        "  List<double[]> list = new ArrayList<>();\n",
        "  for (int i = 0; i < ndArray.getShape().get(0); i++) {\n",
        "    list.add(ndArray.get(i).toDoubleArray());\n",
        "  }\n",
        "  double[][] array = new double[list.size()][];\n",
        "  for (int i = 0; i < list.size(); i++) {\n",
        "    array[i] = list.get(i);\n",
        "  }\n",
        "  return array;\n",
        "}"
      ],
      "metadata": {
        "id": "ItSjEkMGVc9Z"
      },
      "execution_count": null,
      "outputs": []
    },
    {
      "cell_type": "code",
      "source": [
        "HashMap<String, NDArray> meshgrid(NDArray x1, NDArray x2) {\n",
        "    var x1_mesh = x1.reshape(1, -1).broadcast(x2.size(), -1);\n",
        "    var x2_mesh = x2.reshape(-1, 1).broadcast(-1, x1.size());\n",
        "    HashMap<String, NDArray> meshMap = new HashMap<>();\n",
        "    meshMap.put(\"x1\", x1_mesh);\n",
        "    meshMap.put(\"x2\", x2_mesh);\n",
        "    return meshMap;\n",
        "}"
      ],
      "metadata": {
        "id": "-Gr6tLxE0JTa"
      },
      "execution_count": null,
      "outputs": []
    },
    {
      "cell_type": "code",
      "source": [
        "BufferedImage plotGrid(List<Canvas> canvases, int cols) {\n",
        "    int tile_side = 300;\n",
        "    int rows = canvases.size() % cols == 0? canvases.size() / cols: (int)Math.floor(canvases.size() / cols) + 1;\n",
        "    BufferedImage combinedImage = new BufferedImage(tile_side * cols, tile_side * rows, BufferedImage.TYPE_INT_ARGB);\n",
        "    Graphics2D g2d = combinedImage.createGraphics();\n",
        "    for(int i = 0; i <  canvases.size(); i++) {\n",
        "      int tile_x = tile_side * (i % cols);\n",
        "      int tile_y = tile_side * ((i / cols) % rows);\n",
        "      g2d.drawImage(canvases.get(i).toBufferedImage(tile_side, tile_side), tile_x, tile_y, null);\n",
        "    }\n",
        "    g2d.dispose();\n",
        "    return combinedImage;\n",
        "}"
      ],
      "metadata": {
        "id": "BzMIGUDXqMFu"
      },
      "execution_count": null,
      "outputs": []
    }
  ]
}