{
  "nbformat": 4,
  "nbformat_minor": 0,
  "metadata": {
    "colab": {
      "provenance": [],
      "mount_file_id": "1W216QBgNRz9-z7YA4SvdzJ2xI-JPqV4H",
      "authorship_tag": "ABX9TyOGczRt2Aa01u2Ak9btSP0C",
      "include_colab_link": true
    },
    "kernelspec": {
      "name": "jbang-ijava",
      "display_name": "java (IJava/j!)"
    }
  },
  "cells": [
    {
      "cell_type": "markdown",
      "metadata": {
        "id": "view-in-github",
        "colab_type": "text"
      },
      "source": [
        "<a href=\"https://colab.research.google.com/github/jamalromero/colab/blob/main/udl_ch2.ipynb\" target=\"_parent\"><img src=\"https://colab.research.google.com/assets/colab-badge.svg\" alt=\"Open In Colab\"/></a>"
      ]
    },
    {
      "cell_type": "code",
      "source": [
        "from google.colab import drive\n",
        "drive.mount('/content/drive')"
      ],
      "metadata": {
        "id": "pjUM1cc8pP04"
      },
      "execution_count": null,
      "outputs": []
    },
    {
      "cell_type": "markdown",
      "source": [
        "Keep Python runtime and install java"
      ],
      "metadata": {
        "id": "-PY9c_q42J1S"
      }
    },
    {
      "cell_type": "code",
      "execution_count": null,
      "metadata": {
        "id": "tGjdJncAIbnT"
      },
      "outputs": [],
      "source": [
        "!apt install openjdk-17-jdk"
      ]
    },
    {
      "cell_type": "markdown",
      "source": [
        "Install Juyter Java kernel"
      ],
      "metadata": {
        "id": "VTvVS96Q2Tzd"
      }
    },
    {
      "cell_type": "code",
      "source": [
        "!pip install jbang\n",
        "import jbang\n",
        "jbang.exec(\"trust add https://github.com/jupyter-java\")\n",
        "jbang.exec(\"install-kernel@jupyter-java\")"
      ],
      "metadata": {
        "id": "advvIMn1Nn0e"
      },
      "execution_count": null,
      "outputs": []
    },
    {
      "cell_type": "markdown",
      "source": [
        "Change Runtime to Java kernel and test Java runtime."
      ],
      "metadata": {
        "id": "ro6LZ1iT2cig"
      }
    },
    {
      "cell_type": "code",
      "source": [
        "System.getProperty(\"java.version\")"
      ],
      "metadata": {
        "id": "cwZaX7xHNcKk",
        "outputId": "8b1d7d2f-3bec-4b59-c0f9-3367c5460fa7",
        "colab": {
          "base_uri": "https://localhost:8080/"
        }
      },
      "execution_count": 251,
      "outputs": [
        {
          "output_type": "execute_result",
          "data": {
            "text/plain": [
              "17.0.12"
            ]
          },
          "metadata": {},
          "execution_count": 251
        }
      ]
    },
    {
      "cell_type": "markdown",
      "source": [
        "Load external script to include maven dependency, import packages and intial startup script. Example:\n",
        "\n",
        "```\n",
        "%%loadFromPOM\n",
        "<dependency>\n",
        "    <groupId>tech.tablesaw</groupId>\n",
        "    <artifactId>tablesaw-core</artifactId>\n",
        "    <version>0.43.1</version>\n",
        "</dependency>\n",
        "\n",
        "import java.util.stream.*;\n",
        "\n",
        "System.getProperty(\"java.version\");\n",
        "\n",
        "```\n",
        "\n"
      ],
      "metadata": {
        "id": "z6jlXMb82p9i"
      }
    },
    {
      "cell_type": "code",
      "source": [
        "%load /content/drive/MyDrive/colab/init_script.ipynb"
      ],
      "metadata": {
        "id": "HYw6JGoL4A29"
      },
      "execution_count": null,
      "outputs": []
    },
    {
      "cell_type": "code",
      "source": [
        "NDManager manager = NDManager.newBaseManager();"
      ],
      "metadata": {
        "id": "RpqXcCwcSyfa"
      },
      "execution_count": 208,
      "outputs": []
    },
    {
      "cell_type": "markdown",
      "source": [
        "#Notebook 2.1 Supervised Learning\n",
        "The purpose of this notebook is to explore the linear regression model discussed in Chapter 2 of the book.\n",
        "\n"
      ],
      "metadata": {
        "id": "wXCM4gc6ne-M"
      }
    },
    {
      "cell_type": "code",
      "source": [
        "// Create some input data\n",
        "var x = manager.create(new double[]{0.03, 0.19, 0.34, 0.46, 0.78, 0.81, 1.08, 1.18, 1.39, 1.60, 1.65, 1.90});\n",
        "var y = manager.create(new double[]{0.67, 0.85, 1.05, 1.0, 1.40, 1.5, 1.3, 1.54, 1.55, 1.68, 1.73, 1.6})"
      ],
      "metadata": {
        "id": "kRLpyfzGTTmC"
      },
      "execution_count": 210,
      "outputs": []
    },
    {
      "cell_type": "markdown",
      "source": [
        "## Define 1D linear regression model\n",
        "Equation: $y=\\phi_0 + \\phi_1x$"
      ],
      "metadata": {
        "id": "nPzrhzTpCwVU"
      }
    },
    {
      "cell_type": "code",
      "source": [
        "NDArray f1D(NDArray x, double phi0, double phi1) {\n",
        "  return x.mul(phi1).add(phi0);\n",
        "}"
      ],
      "metadata": {
        "id": "T1LGYBPnT2Mt"
      },
      "execution_count": 212,
      "outputs": []
    },
    {
      "cell_type": "markdown",
      "source": [
        "## Function to help plot the data"
      ],
      "metadata": {
        "id": "1Tn4_QX7EHi1"
      }
    },
    {
      "cell_type": "code",
      "source": [
        "Canvas plot(NDArray x, NDArray y, double phi0, double phi1) {\n",
        "  double[][] points = toDoubleArray(x.stack(y, 1));\n",
        "  var canvas = ScatterPlot.of(points, '*', Color.BLUE).canvas();\n",
        "  points = toDoubleArray(x.stack(f1D(x, phi0, phi1), 1));\n",
        "  canvas.add(LinePlot.of(points, Color.RED));\n",
        "  return canvas;\n",
        "}"
      ],
      "metadata": {
        "id": "Jv5M-11RUq0S"
      },
      "execution_count": 214,
      "outputs": []
    },
    {
      "cell_type": "code",
      "source": [
        "var canvas = plot(x, y, 0.84, 0.5);\n",
        "canvas.setBound(new double[]{0f, 0f}, new double[]{2f, 2f});\n",
        "canvas.setAxisLabels(\"Input X\", \"Output Y\");\n",
        "canvas.toBufferedImage(800, 600)"
      ],
      "metadata": {
        "id": "J0zr9tfgWF51",
        "outputId": "94ba9d33-cb2f-43a2-9467-69a77d79b6c1",
        "colab": {
          "base_uri": "https://localhost:8080/",
          "height": 617
        }
      },
      "execution_count": 314,
      "outputs": [
        {
          "output_type": "execute_result",
          "data": {
            "image/png": "[encoded data removed]",
            "text/plain": [
              "BufferedImage@7686ed69: type = 2 DirectColorModel: rmask=ff0000 gmask=ff00 bmask=ff amask=ff000000 IntegerInterleavedRaster: width = 800 height = 600 #Bands = 4 xOff = 0 yOff = 0 dataOffset[0] 0"
            ]
          },
          "metadata": {},
          "execution_count": 314
        }
      ]
    },
    {
      "cell_type": "markdown",
      "source": [
        "## Function to calculate the loss"
      ],
      "metadata": {
        "id": "5VMWr2-qMbdt"
      }
    },
    {
      "cell_type": "code",
      "source": [
        "double computeLoss(NDArray x, NDArray y, double phi0, double phi1) {\n",
        "    var y_hat = f1D(x, phi0, phi1);\n",
        "    double loss =  y.sub(y_hat).pow(2).sum().toDoubleArray()[0];\n",
        "    return loss;\n",
        "}"
      ],
      "metadata": {
        "id": "qDw1NH3BWVgr"
      },
      "execution_count": 230,
      "outputs": []
    },
    {
      "cell_type": "markdown",
      "source": [
        "Change the parameters manually to fit the model\n",
        "\n",
        "First fix $\\phi_1$ and try changing $\\phi_0$ until you can't make the loss go down any more\n",
        "\n",
        "Then fix $\\phi_0$ and try changing $\\phi_1$ until you can't make the loss go down any more\n",
        "\n",
        "Repeat this process until you find a set of parameters that fit the model as in figure 2.2d\n",
        "\n",
        "You can either do this by hand, or if you want to get fancy, write code to descent automatically in this way\n",
        "\n",
        "Start at these values: $\\phi_0 = 0.75$ and $\\phi_1 = 0.54$"
      ],
      "metadata": {
        "id": "89pCwxZ-lFOm"
      }
    },
    {
      "cell_type": "code",
      "source": [
        "double phi0 = 0.75; double phi1 = 0.54;\n",
        "var loss = computeLoss(x, y, phi0, phi1);\n",
        "System.out.printf(\"Calculated Loss is %,.2f for phi0 = %,.2f, phi1 = %,.2f %n\", loss, phi0, phi1);\n",
        "phi0 = 1.6; phi1 = -0.8;\n",
        "loss = computeLoss(x, y, phi0, phi1);\n",
        "System.out.printf(\"Calculated Loss is %,.2f for phi0 = %,.2f, phi1 = %,.2f %n\", loss, phi0, phi1);\n",
        "phi0 = 0.84; phi1 = 0.5;\n",
        "loss = computeLoss(x, y, phi0, phi1);\n",
        "System.out.printf(\"Calculated Loss is %,.2f for phi0 = %,.2f, phi1 = %,.2f %n\", loss, phi0, phi1);"
      ],
      "metadata": {
        "id": "BPvaXNp2bhrC",
        "outputId": "c3e3edb9-b4af-48bb-84d6-af909f68e4e0",
        "colab": {
          "base_uri": "https://localhost:8080/"
        }
      },
      "execution_count": 273,
      "outputs": [
        {
          "output_type": "stream",
          "name": "stdout",
          "text": [
            "Calculated Loss is 0.24 for phi0 = 0.75, phi1 = 0.54 \n",
            "Calculated Loss is 10.28 for phi0 = 1.60, phi1 = -0.80 \n",
            "Calculated Loss is 0.20 for phi0 = 0.84, phi1 = 0.50 \n"
          ]
        },
        {
          "output_type": "execute_result",
          "data": {
            "text/plain": [
              "java.io.PrintStream@96b1591"
            ]
          },
          "metadata": {},
          "execution_count": 273
        }
      ]
    },
    {
      "cell_type": "code",
      "source": [
        "phi0 = 0.77; phi1 = 0.57;\n",
        "loss = computeLoss(x, y, phi0, phi1);\n",
        "System.out.printf(\"Calculated Loss is %,.2f for phi0 = %,.2f, phi1 = %,.2f %n\", loss, phi0, phi1);"
      ],
      "metadata": {
        "id": "tawpzbwhG6gQ",
        "outputId": "8e9a6470-1f6e-4619-a1b4-51c92b9d6b71",
        "colab": {
          "base_uri": "https://localhost:8080/"
        }
      },
      "execution_count": 316,
      "outputs": [
        {
          "output_type": "stream",
          "name": "stdout",
          "text": [
            "Calculated Loss is 0.21 for phi0 = 0.77, phi1 = 0.57 \n"
          ]
        },
        {
          "output_type": "execute_result",
          "data": {
            "text/plain": [
              "java.io.PrintStream@96b1591"
            ]
          },
          "metadata": {},
          "execution_count": 316
        }
      ]
    },
    {
      "cell_type": "code",
      "source": [
        "phi0 = 0.4 ; phi1 = 0.2;\n",
        "var initial_loss = computeLoss(x,y,phi0,phi1);\n",
        "System.out.printf(\"Calculated Loss is %,.2f for phi0 = %,.2f, phi1 = %,.2f %n\", initial_loss, phi0, phi1);\n",
        "double learning_rate = 0.01;\n",
        "for(int i = 0; i < 500; i++) {\n",
        "  var loss = computeLoss(x,y,phi0 + learning_rate, phi1 + learning_rate);\n",
        "  if(loss < initial_loss) {\n",
        "    phi0 += learning_rate;\n",
        "    phi1 += learning_rate;\n",
        "    initial_loss = loss;\n",
        "  }\n",
        "  System.out.printf(\"Calculated Loss is %,.2f for phi0 = %,.2f, phi1 = %,.2f %n\", loss, phi0, phi1);\n",
        "}"
      ],
      "metadata": {
        "id": "CM7N270cOJUL"
      },
      "execution_count": null,
      "outputs": []
    }
  ]
}