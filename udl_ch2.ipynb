{
  "nbformat": 4,
  "nbformat_minor": 0,
  "metadata": {
    "colab": {
      "provenance": [],
      "mount_file_id": "1W216QBgNRz9-z7YA4SvdzJ2xI-JPqV4H",
      "authorship_tag": "ABX9TyPI+5ewrr7l13umZmzMNHYH",
      "include_colab_link": true
    },
    "kernelspec": {
      "name": "python3",
      "display_name": "Python 3"
    },
    "language_info": {
      "name": "python"
    }
  },
  "cells": [
    {
      "cell_type": "markdown",
      "metadata": {
        "id": "view-in-github",
        "colab_type": "text"
      },
      "source": [
        "<a href=\"https://colab.research.google.com/github/jamalromero/colab/blob/main/udl_ch2.ipynb\" target=\"_parent\"><img src=\"https://colab.research.google.com/assets/colab-badge.svg\" alt=\"Open In Colab\"/></a>"
      ]
    },
    {
      "cell_type": "code",
      "source": [
        "from google.colab import drive\n",
        "drive.mount('/content/drive')"
      ],
      "metadata": {
        "id": "pjUM1cc8pP04",
        "outputId": "3dbd7de4-82b5-4a36-ac21-afb9dcd7200f",
        "colab": {
          "base_uri": "https://localhost:8080/"
        }
      },
      "execution_count": null,
      "outputs": [
        {
          "output_type": "stream",
          "name": "stdout",
          "text": [
            "Mounted at /content/drive\n"
          ]
        }
      ]
    },
    {
      "cell_type": "markdown",
      "source": [
        "Keep Python runtime and install java"
      ],
      "metadata": {
        "id": "-PY9c_q42J1S"
      }
    },
    {
      "cell_type": "code",
      "execution_count": null,
      "metadata": {
        "id": "tGjdJncAIbnT"
      },
      "outputs": [],
      "source": [
        "!apt install openjdk-17-jdk"
      ]
    },
    {
      "cell_type": "markdown",
      "source": [
        "Install Juyter Java kernel"
      ],
      "metadata": {
        "id": "VTvVS96Q2Tzd"
      }
    },
    {
      "cell_type": "code",
      "source": [
        "!pip install jbang\n",
        "import jbang\n",
        "jbang.exec(\"trust add https://github.com/jupyter-java\")\n",
        "jbang.exec(\"install-kernel@jupyter-java\")"
      ],
      "metadata": {
        "id": "advvIMn1Nn0e"
      },
      "execution_count": null,
      "outputs": []
    },
    {
      "cell_type": "markdown",
      "source": [
        "Change Runtime to Java kernel and test Java runtime."
      ],
      "metadata": {
        "id": "ro6LZ1iT2cig"
      }
    },
    {
      "cell_type": "code",
      "source": [
        "System.getProperty(\"java.version\")"
      ],
      "metadata": {
        "id": "cwZaX7xHNcKk"
      },
      "execution_count": null,
      "outputs": []
    },
    {
      "cell_type": "markdown",
      "source": [
        "Load external script to include maven dependency, import packages and intial startup script. Example:\n",
        "\n",
        "```\n",
        "%%loadFromPOM\n",
        "<dependency>\n",
        "    <groupId>tech.tablesaw</groupId>\n",
        "    <artifactId>tablesaw-core</artifactId>\n",
        "    <version>0.43.1</version>\n",
        "</dependency>\n",
        "\n",
        "import java.util.stream.*;\n",
        "\n",
        "System.getProperty(\"java.version\");\n",
        "\n",
        "```\n",
        "\n"
      ],
      "metadata": {
        "id": "z6jlXMb82p9i"
      }
    },
    {
      "cell_type": "code",
      "source": [
        "%load /content/drive/MyDrive/colab/init_script.ipynb"
      ],
      "metadata": {
        "id": "HYw6JGoL4A29"
      },
      "execution_count": null,
      "outputs": []
    }
  ]
}